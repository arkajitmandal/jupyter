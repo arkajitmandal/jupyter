{
 "cells": [
  {
   "cell_type": "code",
   "execution_count": null,
   "metadata": {},
   "outputs": [],
   "source": [
    "%pip install ipywidgets\n",
    "%pip install matplotlib\n",
    "%pip install numpy"
   ]
  },
  {
   "cell_type": "code",
   "execution_count": 4,
   "metadata": {},
   "outputs": [
    {
     "data": {
      "text/plain": [
       "<Figure size 360x318.584 with 0 Axes>"
      ]
     },
     "metadata": {},
     "output_type": "display_data"
    }
   ],
   "source": [
    "\n",
    "import matplotlib.pyplot as plt\n",
    "plt.rcParams.update({'font.size': 16})\n",
    "\n",
    "width= 5\n",
    "aspect_ratio= 1.13\n",
    "fig_size = (width, width / aspect_ratio)\n",
    "plt.figure(figsize=fig_size, constrained_layout=True)\n",
    "\n",
    "# interact\n",
    "import numpy as np\n",
    "from ipywidgets import interact, interactive, fixed, interact_manual"
   ]
  },
  {
   "cell_type": "code",
   "execution_count": 5,
   "metadata": {},
   "outputs": [
    {
     "data": {
      "application/vnd.jupyter.widget-view+json": {
       "model_id": "841e0869d3694994bc608032e4b6e733",
       "version_major": 2,
       "version_minor": 0
      },
      "text/plain": [
       "interactive(children=(IntSlider(value=40, description='dR', max=150, min=40, step=5), IntSlider(value=3250, de…"
      ]
     },
     "metadata": {},
     "output_type": "display_data"
    }
   ],
   "source": [
    "@interact(dR = (40, 150, 5), Eb = (3000, 40000, 100))\n",
    "def show(dR = 40, Eb = 3250):\n",
    "    eV = 1.0 / 27.2114\n",
    "    cmn1 = 1.0/219474.63\n",
    "\n",
    "    # particle in a box potential\n",
    "    def V1D(R, dR= dR, Eb = Eb):\n",
    "        \n",
    "        Eb = Eb * cmn1\n",
    "        \n",
    "        V  =  (R > dR/2) * Eb + (R < -dR/2) * Eb\n",
    "        return V\n",
    "\n",
    "\n",
    "    # Kinetic energy for electron \n",
    "    def Te(re):\n",
    "        N = float(len(re))\n",
    "        mass = 1.0\n",
    "        Tij = np.zeros((int(N),int(N)))\n",
    "        Rmin = float(re[0])\n",
    "        Rmax = float(re[-1])\n",
    "        step = float((Rmax-Rmin)/N)\n",
    "        K = np.pi/step\n",
    "\n",
    "        for ri in range(int(N)):\n",
    "            for rj in range(int(N)):\n",
    "                if ri == rj:  \n",
    "                    Tij[ri,ri] = (0.5/mass)*K**2.0/3.0*(1+(2.0/N**2)) \n",
    "                else:    \n",
    "                    Tij[ri,rj] = (0.5/mass)*(2*K**2.0/(N**2.0))*((-1)**(rj-ri)/(np.sin(np.pi*(rj-ri)/N)**2)) \n",
    "        return Tij\n",
    "\n",
    " \n",
    "    Eb  = Eb\n",
    "    nR  = 128\n",
    "    Rmax = 100\n",
    "    R = np.linspace(-Rmax,Rmax, nR)\n",
    "    V = V1D(R,dR,Eb) \n",
    "\n",
    "    plt.plot(R,  V/cmn1, c =  \"#000000\", lw = 3)\n",
    "    plt.ylim(-10, 7000)\n",
    "\n",
    "\n",
    "    Hij = Te(R) + np.diag(V)\n",
    "    Ei, Um   = np.linalg.eigh(Hij)\n",
    "    color = ['#ef5777', '#48dbfb', '#8854d0', '#079992', '#e58e26',\"#ff9ff3\"]\n",
    "\n",
    "\n",
    "    for i in range(0,3):\n",
    "        plt.plot(R, Um[:,i]*0 + Ei[i]/cmn1, c =  \"#000000\")\n",
    "        arg = np.argmax(np.abs(Um[:len(Um[:,i])//2,i]))\n",
    "        sgn = Um[arg,i]/np.abs(Um[arg,i])\n",
    "        plt.plot(R,sgn * Um[:,i] * 4000 + Ei[i]/cmn1, c =  color[i], ls = '-')\n",
    "        plt.fill_between(R,Ei[i]/cmn1,  sgn* Um[:,i] * 4000 + Ei[i]/cmn1, facecolor=color[i], alpha = 0.3)\n",
    "\n",
    "    plt.xlim(-100, 100)\n",
    "\n",
    "    \n",
    "    plt.xlabel(\"R (a.u.)\")\n",
    "    plt.ylabel(\"Energy (cm$^{-1}$)\")\n",
    " "
   ]
  },
  {
   "cell_type": "code",
   "execution_count": null,
   "metadata": {},
   "outputs": [],
   "source": []
  }
 ],
 "metadata": {
  "kernelspec": {
   "display_name": "base",
   "language": "python",
   "name": "python3"
  },
  "language_info": {
   "codemirror_mode": {
    "name": "ipython",
    "version": 3
   },
   "file_extension": ".py",
   "mimetype": "text/x-python",
   "name": "python",
   "nbconvert_exporter": "python",
   "pygments_lexer": "ipython3",
   "version": "3.8.8"
  }
 },
 "nbformat": 4,
 "nbformat_minor": 2
}
